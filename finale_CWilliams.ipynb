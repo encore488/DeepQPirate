{
 "cells": [
  {
   "cell_type": "markdown",
   "metadata": {},
   "source": [
    "# Treasure Hunt Game Notebook\n",
    "\n",
   ]
  },
  {
   "cell_type": "code",
   "execution_count": 13,
   "metadata": {},
   "outputs": [],
   "source": [
    "from __future__ import print_function\n",
    "import os, sys, time, datetime, json, random\n",
    "import numpy as np\n",
    "from keras.models import Sequential\n",
    "from keras.layers.core import Dense, Activation\n",
    "from keras.optimizers import SGD , Adam, RMSprop\n",
    "from keras.layers.advanced_activations import PReLU\n",
    "import matplotlib.pyplot as plt\n",
    "from TreasureMaze import TreasureMaze\n",
    "from GameExperience import GameExperience\n",
    "%matplotlib inline"
   ]
  },
  {
   "cell_type": "markdown",
   "metadata": {},
   "source": [
    "The following code block contains an 8x8 matrix that will be used as a maze object:"
   ]
  },
  {
   "cell_type": "code",
   "execution_count": 14,
   "metadata": {},
   "outputs": [],
   "source": [
    "maze = np.array([\n",
    "    [ 1.,  0.,  1.,  1.,  1.,  1.,  1.,  1.],\n",
    "    [ 1.,  0.,  1.,  1.,  1.,  0.,  1.,  1.],\n",
    "    [ 1.,  1.,  1.,  1.,  0.,  1.,  0.,  1.],\n",
    "    [ 1.,  1.,  1.,  0.,  1.,  1.,  1.,  1.],\n",
    "    [ 1.,  1.,  0.,  1.,  1.,  1.,  1.,  1.],\n",
    "    [ 1.,  1.,  1.,  0.,  1.,  0.,  0.,  0.],\n",
    "    [ 1.,  1.,  1.,  0.,  1.,  1.,  1.,  1.],\n",
    "    [ 1.,  1.,  1.,  1.,  0.,  1.,  1.,  1.]\n",
    "])"
   ]
  },
  {
   "cell_type": "markdown",
   "metadata": {},
   "source": [
    "This helper function allows a visual representation of the maze object:"
   ]
  },
  {
   "cell_type": "code",
   "execution_count": 15,
   "metadata": {},
   "outputs": [],
   "source": [
    "def show(qmaze):\n",
    "    plt.grid('on')\n",
    "    nrows, ncols = qmaze.maze.shape\n",
    "    ax = plt.gca()\n",
    "    ax.set_xticks(np.arange(0.5, nrows, 1))\n",
    "    ax.set_yticks(np.arange(0.5, ncols, 1))\n",
    "    ax.set_xticklabels([])\n",
    "    ax.set_yticklabels([])\n",
    "    canvas = np.copy(qmaze.maze)\n",
    "    for row,col in qmaze.visited:\n",
    "        canvas[row,col] = 0.6\n",
    "    pirate_row, pirate_col, _ = qmaze.state\n",
    "    canvas[pirate_row, pirate_col] = 0.3   # pirate cell\n",
    "    canvas[nrows-1, ncols-1] = 0.9 # treasure cell\n",
    "    img = plt.imshow(canvas, interpolation='none', cmap='gray')\n",
    "    return img"
   ]
  },
  {
   "cell_type": "markdown",
   "metadata": {},
   "source": [
    "The pirate agent can move in four directions: left, right, up, and down. \n",
    "\n",
    "While the agent primarily learns by experience through exploitation, often, the agent can choose to explore the environment to find previously undiscovered paths. This is called \"exploration\" and is defined by epsilon. This value is typically a lower value such as 0.1, which means for every ten attempts, the agent will attempt to learn by experience nine times and will randomly explore a new path one time. You are encouraged to try various values for the exploration factor and see how the algorithm performs."
   ]
  },
  {
   "cell_type": "code",
   "execution_count": 16,
   "metadata": {},
   "outputs": [],
   "source": [
    "LEFT = 0\n",
    "UP = 1\n",
    "RIGHT = 2\n",
    "DOWN = 3\n",
    "\n",
    "\n",
    "# Exploration factor\n",
    "epsilon = 0.1\n",
    "\n",
    "# Actions dictionary\n",
    "actions_dict = {\n",
    "    LEFT: 'left',\n",
    "    UP: 'up',\n",
    "    RIGHT: 'right',\n",
    "    DOWN: 'down',\n",
    "}\n",
    "\n",
    "num_actions = len(actions_dict)\n"
   ]
  },
  {
   "cell_type": "markdown",
   "metadata": {},
   "source": [
    "The sample code block and output below show creating a maze object and performing one action (DOWN), which returns the reward. The resulting updated environment is visualized."
   ]
  },
  {
   "cell_type": "code",
   "execution_count": 17,
   "metadata": {},
   "outputs": [
    {
     "name": "stdout",
     "output_type": "stream",
     "text": [
      "reward= -0.04\n"
     ]
    },
    {
     "data": {
      "text/plain": [
       "<matplotlib.image.AxesImage at 0x1988362ca88>"
      ]
     },
     "execution_count": 17,
     "metadata": {},
     "output_type": "execute_result"
    },
    {
     "data": {
      "image/png": "iVBORw0KGgoAAAANSUhEUgAAAOsAAADrCAYAAACICmHVAAAABHNCSVQICAgIfAhkiAAAAAlwSFlzAAALEgAACxIB0t1+/AAAADh0RVh0U29mdHdhcmUAbWF0cGxvdGxpYiB2ZXJzaW9uMy4xLjEsIGh0dHA6Ly9tYXRwbG90bGliLm9yZy8QZhcZAAAFtElEQVR4nO3dMWpUexjG4W8ugoUJKLmQxlIY+5kFTDpX4gpO5w5kUguuwFZcwJkFzBSW6SwCEkgjamVxbnEVFBJz5yb5Z97j88BUEd6TGX6YNPkmwzAUsPv+uusHAP4bsUIIsUIIsUIIsUIIsUKIe9v84729veHg4OC2nuUX3759q48fPzbZevr0aT148KDJ1tevX0e51XpvrFsfPnyo8/PzyUVf2yrWg4ODevHixc081RU+f/5cXdc12Xr16lUtFosmW6vVapRbrffGujWfzy/9mh+DIYRYIYRYIYRYIYRYIYRYIYRYIYRYIYRYIYRYIYRYIYRYIYRYIYRYIYRYIYRYIYRYIYRYIYRYIYRYIYRYIYRYIYRYIYRYIcRWf+T706dP9e7du9t6ll+0/OPU3IzNZlNHR0dNtvq+b7KzSyZXXT6fTCbPq+p5VdWjR49mL1++bPFctb+/X6enp022ptNp7e3tNdn68uXLKLeqqs7Oznxm19R1Xa3X6/93PmMYhtdV9bqq6uHDh8Pbt29v+PEutlgsmp3P6Pt+lKcYWp/POD4+9pndIr+zQgixQgixQgixQgixQgixQgixQgixQgixQgixQgixQgixQgixQgixQgixQgixQgixQgixQgixQgixQgixQgixQgixQgixQoitzmc8efKk2fmM1WpVV10LuMmtsZpMLvzj7rei7/tmn9nx8XGzUx3L5XIn/sj3VuczDg8PZ2/evGnxXKM9M9F66+TkpMlWVduTFi1PdTx+/LgODw+bbP3ufEYNw/CfX7PZbGil73tbN7BVVc1eLb+35XLZ7PtaLpfNvq/vjV3Yn99ZIYRYIYRYIYRYIYRYIYRYIYRYIYRYIYRYIYRYIYRYIYRYIYRYIYRYIYRYIYRYIYRYIYRYIYRYIYRYIYRYIYRYIYRYIYRYIYRYIYTzGXew1eqkRcuzD1Xj/sxabTmfsWNbNcKzDz++N1vX43wGjIBYIYRYIYRYIYRYIYRYIYRYIYRYIYRYIYRYIYRYIYRYIYRYIYRYIYRYIYRYIYRYIYRYIYRYIYRYIYRYIYRYIYRYIYRYIYRYIYRYq2qz2dRkMmny2mw2W11BuM5rNpvd9VvLDXLrpqrOzs7q9PS0yVbL+zMt38PWe2PdcuvmCsvlcpT3Z1q+h633xrrl1g2MgFghhFghhFghhFghhFghhFghhFghhFghhFghhFghhFghhFghhFghhFghhFghhFghhFghhFghhFghhFghhFghhFghhFghhFirajabNT1p0fJUR0utz5CMdesyzmfcwdbJyUmTrZanOqranyEZ41bXdTUMg/MZu7JVIzzVMQztz5CMcevfJJ3PgGhihRBihRBihRBihRBihRBihRBihRBihRBihRBihRBihRBihRBihRBihRBihRBihRBihRBihRBihRBihRBihRBihRBihRD37voBGI8fZ0haWK1Wo9yaz+eXfs35jDvYGuv5jDF/Zq22uq6r9XrtfMaubNVIz2eM+TNr5XtjzmdAMrFCCLFCCLFCCLFCCLFCCLFCCLFCCLFCCLFCCLFCCLFCCLFCCLFCCLFCCLFCCLFCCLFCCLFCCLFCCLFCCLFCCLFCCLFCCLFCCOczRr7V6lRHVdV0Oh3t+3j//v0mW13X1fv37y88n3FlrD+bz+fDer2+sQf7ndVqVYvFwtY1t46OjppsVVX1fT/a93E6nTbZevbs2aWx+jEYQogVQogVQogVQogVQogVQogVQogVQogVQogVQogVQogVQogVQogVQogVQogVQogVQogVQogVQogVQogVQogVQogVQogVQogVQmx1PqOqplXV6h7D31V1bitmq/XeWLemwzDsX/SFrc5ntDSZTNbDMMxtZWy13vsTt/wYDCHECiF2OdbXtqK2Wu/9cVs7+zsr8Ktd/p8V+IlYIYRYIYRYIYRYIcQ/8eViVeWzLxQAAAAASUVORK5CYII=\n",
      "text/plain": [
       "<Figure size 432x288 with 1 Axes>"
      ]
     },
     "metadata": {
      "needs_background": "light"
     },
     "output_type": "display_data"
    }
   ],
   "source": [
    "qmaze = TreasureMaze(maze)\n",
    "canvas, reward, game_over = qmaze.act(DOWN)\n",
    "print(\"reward=\", reward)\n",
    "show(qmaze)"
   ]
  },
  {
   "cell_type": "markdown",
   "metadata": {},
   "source": [
    "This function simulates a full game based on the provided trained model. The other parameters include the TreasureMaze object and the starting position of the pirate."
   ]
  },
  {
   "cell_type": "code",
   "execution_count": 18,
   "metadata": {},
   "outputs": [],
   "source": [
    "def play_game(model, qmaze, pirate_cell):\n",
    "    qmaze.reset(pirate_cell)\n",
    "    envstate = qmaze.observe()\n",
    "    while True:\n",
    "        prev_envstate = envstate\n",
    "        # get next action\n",
    "        q = model.predict(prev_envstate)\n",
    "        action = np.argmax(q[0])\n",
    "\n",
    "        # apply action, get rewards and new state\n",
    "        envstate, reward, game_status = qmaze.act(action)\n",
    "        if game_status == 'win':\n",
    "            return True\n",
    "        elif game_status == 'lose':\n",
    "            return False"
   ]
  },
  {
   "cell_type": "markdown",
   "metadata": {},
   "source": [
    "This function helps you to determine whether the pirate can win any game at all. If your maze is not well designed, the pirate may not win any game at all. In this case, your training would not yield any result. The provided maze in this notebook ensures that there is a path to win and you can run this method to check."
   ]
  },
  {
   "cell_type": "code",
   "execution_count": 19,
   "metadata": {},
   "outputs": [],
   "source": [
    "def completion_check(model, qmaze):\n",
    "    for cell in qmaze.free_cells:\n",
    "        if not qmaze.valid_actions(cell):\n",
    "            return False\n",
    "        if not play_game(model, qmaze, cell):\n",
    "            return False\n",
    "    return True"
   ]
  },
  {
   "cell_type": "markdown",
   "metadata": {},
   "source": [
    "The code you have been given in this block will build the neural network model. Review the code and note the number of layers, as well as the activation, optimizer, and loss functions that are used to train the model."
   ]
  },
  {
   "cell_type": "code",
   "execution_count": 20,
   "metadata": {},
   "outputs": [],
   "source": [
    "def build_model(maze):\n",
    "    model = Sequential()\n",
    "    model.add(Dense(maze.size, input_shape=(maze.size,)))\n",
    "    model.add(PReLU())\n",
    "    model.add(Dense(maze.size))\n",
    "    model.add(PReLU())\n",
    "    model.add(Dense(num_actions))\n",
    "    model.compile(optimizer='adam', loss='mse')\n",
    "    return model"
   ]
  },
  {
   "cell_type": "markdown",
   "metadata": {},
   "source": [
    "# #TODO: Complete the Q-Training Algorithm Code Block\n",
    "\n",
    "This is your deep Q-learning implementation. The goal of your deep Q-learning implementation is to find the best possible navigation sequence that results in reaching the treasure cell while maximizing the reward. In your implementation, you need to determine the optimal number of epochs to achieve a 100% win rate.\n",
    "\n",
    "You will need to complete the section starting with #pseudocode. The pseudocode has been included for you."
   ]
  },
  {
   "cell_type": "code",
   "execution_count": 21,
   "metadata": {},
   "outputs": [],
   "source": [
    "def qtrain(model, maze, **opt):\n",
    "\n",
    "    # exploration factor\n",
    "    global epsilon \n",
    "\n",
    "    # number of epochs\n",
    "    n_epoch = opt.get('n_epoch', 15000)\n",
    "\n",
    "    # maximum memory to store episodes\n",
    "    max_memory = opt.get('max_memory', 1000)\n",
    "\n",
    "    # maximum data size for training\n",
    "    data_size = opt.get('data_size', 50)\n",
    "\n",
    "    # start time\n",
    "    start_time = datetime.datetime.now()\n",
    "\n",
    "    # Construct environment/game from numpy array: maze (see above)\n",
    "    qmaze = TreasureMaze(maze)\n",
    "\n",
    "    # Initialize experience replay object\n",
    "    experience = GameExperience(model, max_memory=max_memory)\n",
    "    \n",
    "    win_history = []   # history of win/lose game\n",
    "    hsize = qmaze.maze.size//2   # history window size\n",
    "    win_rate = 0.0\n",
    "    \n",
    "    \n",
    "    #############      My work begins here      ##############\n",
    "    \n",
    "    for epoch in range(n_epoch):\n",
    "    #    randomly select a free cell\n",
    "        Agent_cell = random.choice(qmaze.free_cells)        \n",
    "    #    Reset the maze with agent set to above position\n",
    "        qmaze.reset(Agent_cell)           \n",
    "        envstate = qmaze.observe()\n",
    "        \n",
    "        n_episodes = 0\n",
    "        # An episode is an action and its results. We store them in the memory buffer \n",
    "        #Continue creating and storing episodes until the game ends\n",
    "        \n",
    "        while True:\n",
    "            prev_envstate = envstate  # Store the current state as the previous state\n",
    "\n",
    "            # Decide on an action\n",
    "            if np.random.rand() < epsilon:  # With probability epsilon, choose a random action\n",
    "                action = np.random.choice(num_actions)\n",
    "            else:  # Otherwise, choose the best action based on the current model\n",
    "                q = model.predict(prev_envstate)\n",
    "                action = np.argmax(q[0])\n",
    "\n",
    "            # Take the action in the maze and observe the new state, reward, and whether the game has ended\n",
    "            envstate, reward, game_status = qmaze.act(action)\n",
    "\n",
    "            # Store the experience in the experience replay memory\n",
    "            episode = [prev_envstate, action, reward, envstate, game_status]\n",
    "            experience.remember(episode)\n",
    "\n",
    "            n_episodes += 1  # We are finished with this episode\n",
    "\n",
    "            # Now to train the neural network. We will train the model with data from the experience replay memory\n",
    "            inputs, targets = experience.get_data(data_size=data_size)\n",
    "            model.fit(inputs, targets, epochs=1, batch_size=16, verbose=0)\n",
    "\n",
    "            # evaluate loss\n",
    "            loss = model.evaluate(inputs, targets, verbose=0) \n",
    "\n",
    "            # Logic to stop the epoch when the agent loses or wins (minimum reward is taken care of in TreasureMaze.py)\n",
    "            if game_status in ['win', 'lose']:\n",
    "                win_history.append(1 if game_status == 'win' else 0)\n",
    "                win_rate = sum(win_history[-hsize:]) / hsize  # Calculate the current win rate\n",
    "                break  # Exit the loop since the game has ended\n",
    "\n",
    "\n",
    "    ######################      My work ends here     ########################\n",
    "\n",
    "    #Print the epoch, loss, episodes, win count, and win rate for each epoch\n",
    "        dt = datetime.datetime.now() - start_time\n",
    "        t = format_time(dt.total_seconds())\n",
    "        template = \"Epoch: {:03d}/{:d} | Loss: {:.4f} | Episodes: {:d} | Win count: {:d} | Win rate: {:.3f} | time: {}\"\n",
    "        print(template.format(epoch, n_epoch-1, loss, n_episodes, sum(win_history), win_rate, t))\n",
    "        # We simply check if training has exhausted all free cells and if in all\n",
    "        # cases the agent won.\n",
    "        if win_rate > 0.9 : epsilon = 0.05\n",
    "        if sum(win_history[-hsize:]) == hsize and completion_check(model, qmaze):\n",
    "            print(\"Reached 100%% win rate at epoch: %d\" % (epoch,))\n",
    "            break\n",
    "    \n",
    "    \n",
    "    # Determine the total time for training\n",
    "    dt = datetime.datetime.now() - start_time\n",
    "    seconds = dt.total_seconds()\n",
    "    t = format_time(seconds)\n",
    "\n",
    "    print(\"n_epoch: %d, max_mem: %d, data: %d, time: %s\" % (epoch, max_memory, data_size, t))\n",
    "    return seconds\n",
    "\n",
    "# This is a small utility for printing readable time strings:\n",
    "def format_time(seconds):\n",
    "    if seconds < 400:\n",
    "        s = float(seconds)\n",
    "        return \"%.1f seconds\" % (s,)\n",
    "    elif seconds < 4000:\n",
    "        m = seconds / 60.0\n",
    "        return \"%.2f minutes\" % (m,)\n",
    "    else:\n",
    "        h = seconds / 3600.0\n",
    "        return \"%.2f hours\" % (h,)"
   ]
  },
  {
   "cell_type": "markdown",
   "metadata": {},
   "source": [
    "## Test Your Model\n",
    "\n",
    "Now we will start testing the deep Q-learning implementation. To begin, select **Cell**, then **Run All** from the menu bar. This will run your notebook. As it runs, you should see output begin to appear beneath the next few cells. The code below creates an instance of TreasureMaze."
   ]
  },
  {
   "cell_type": "code",
   "execution_count": 22,
   "metadata": {},
   "outputs": [
    {
     "data": {
      "text/plain": [
       "<matplotlib.image.AxesImage at 0x1988380e408>"
      ]
     },
     "execution_count": 22,
     "metadata": {},
     "output_type": "execute_result"
    },
    {
     "data": {
      "image/png": "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\n",
      "text/plain": [
       "<Figure size 432x288 with 1 Axes>"
      ]
     },
     "metadata": {
      "needs_background": "light"
     },
     "output_type": "display_data"
    }
   ],
   "source": [
    "qmaze = TreasureMaze(maze)\n",
    "show(qmaze)"
   ]
  },
  {
   "cell_type": "markdown",
   "metadata": {},
   "source": [
    "In the next code block, you will build your model and train it using deep Q-learning. Note: This step takes several minutes to fully run."
   ]
  },
  {
   "cell_type": "code",
   "execution_count": 23,
   "metadata": {},
   "outputs": [
    {
     "name": "stdout",
     "output_type": "stream",
     "text": [
      "Epoch: 000/14999 | Loss: 0.0001 | Episodes: 133 | Win count: 0 | Win rate: 0.000 | time: 10.3 seconds\n",
      "Epoch: 001/14999 | Loss: 0.0008 | Episodes: 143 | Win count: 0 | Win rate: 0.000 | time: 21.6 seconds\n",
      "Epoch: 002/14999 | Loss: 0.0006 | Episodes: 147 | Win count: 0 | Win rate: 0.000 | time: 32.2 seconds\n",
      "Epoch: 003/14999 | Loss: 0.0007 | Episodes: 139 | Win count: 0 | Win rate: 0.000 | time: 43.1 seconds\n",
      "Epoch: 004/14999 | Loss: 0.0007 | Episodes: 139 | Win count: 0 | Win rate: 0.000 | time: 54.0 seconds\n",
      "Epoch: 005/14999 | Loss: 0.0008 | Episodes: 139 | Win count: 1 | Win rate: 0.031 | time: 65.0 seconds\n",
      "Epoch: 006/14999 | Loss: 0.0004 | Episodes: 118 | Win count: 2 | Win rate: 0.062 | time: 73.7 seconds\n",
      "Epoch: 007/14999 | Loss: 0.0011 | Episodes: 61 | Win count: 3 | Win rate: 0.094 | time: 78.3 seconds\n",
      "Epoch: 008/14999 | Loss: 0.0110 | Episodes: 11 | Win count: 4 | Win rate: 0.125 | time: 79.1 seconds\n",
      "Epoch: 009/14999 | Loss: 0.0017 | Episodes: 134 | Win count: 4 | Win rate: 0.125 | time: 90.7 seconds\n",
      "Epoch: 010/14999 | Loss: 0.0048 | Episodes: 135 | Win count: 4 | Win rate: 0.125 | time: 102.1 seconds\n",
      "Epoch: 011/14999 | Loss: 0.0020 | Episodes: 73 | Win count: 5 | Win rate: 0.156 | time: 108.0 seconds\n",
      "Epoch: 012/14999 | Loss: 0.0018 | Episodes: 39 | Win count: 6 | Win rate: 0.188 | time: 111.0 seconds\n",
      "Epoch: 013/14999 | Loss: 0.0014 | Episodes: 125 | Win count: 7 | Win rate: 0.219 | time: 121.2 seconds\n",
      "Epoch: 014/14999 | Loss: 0.0012 | Episodes: 139 | Win count: 7 | Win rate: 0.219 | time: 132.2 seconds\n",
      "Epoch: 015/14999 | Loss: 0.0009 | Episodes: 7 | Win count: 8 | Win rate: 0.250 | time: 132.7 seconds\n",
      "Epoch: 016/14999 | Loss: 0.0017 | Episodes: 121 | Win count: 9 | Win rate: 0.281 | time: 142.1 seconds\n",
      "Epoch: 017/14999 | Loss: 0.0017 | Episodes: 2 | Win count: 10 | Win rate: 0.312 | time: 142.3 seconds\n",
      "Epoch: 018/14999 | Loss: 0.0013 | Episodes: 27 | Win count: 11 | Win rate: 0.344 | time: 144.7 seconds\n",
      "Epoch: 019/14999 | Loss: 0.0017 | Episodes: 39 | Win count: 12 | Win rate: 0.375 | time: 148.1 seconds\n",
      "Epoch: 020/14999 | Loss: 0.0015 | Episodes: 43 | Win count: 13 | Win rate: 0.406 | time: 151.5 seconds\n",
      "Epoch: 021/14999 | Loss: 0.0010 | Episodes: 138 | Win count: 13 | Win rate: 0.406 | time: 163.0 seconds\n",
      "Epoch: 022/14999 | Loss: 0.0019 | Episodes: 16 | Win count: 14 | Win rate: 0.438 | time: 164.5 seconds\n",
      "Epoch: 023/14999 | Loss: 0.0013 | Episodes: 139 | Win count: 15 | Win rate: 0.469 | time: 176.6 seconds\n",
      "Epoch: 024/14999 | Loss: 0.0012 | Episodes: 4 | Win count: 16 | Win rate: 0.500 | time: 177.0 seconds\n",
      "Epoch: 025/14999 | Loss: 0.0019 | Episodes: 6 | Win count: 17 | Win rate: 0.531 | time: 177.6 seconds\n",
      "Epoch: 026/14999 | Loss: 0.0009 | Episodes: 32 | Win count: 18 | Win rate: 0.562 | time: 180.3 seconds\n",
      "Epoch: 027/14999 | Loss: 0.0010 | Episodes: 25 | Win count: 19 | Win rate: 0.594 | time: 182.1 seconds\n",
      "Epoch: 028/14999 | Loss: 0.0014 | Episodes: 33 | Win count: 20 | Win rate: 0.625 | time: 184.6 seconds\n",
      "Epoch: 029/14999 | Loss: 0.0011 | Episodes: 28 | Win count: 21 | Win rate: 0.656 | time: 187.1 seconds\n",
      "Epoch: 030/14999 | Loss: 0.0008 | Episodes: 25 | Win count: 22 | Win rate: 0.688 | time: 189.2 seconds\n",
      "Epoch: 031/14999 | Loss: 0.0006 | Episodes: 17 | Win count: 23 | Win rate: 0.719 | time: 190.8 seconds\n",
      "Epoch: 032/14999 | Loss: 0.0011 | Episodes: 60 | Win count: 24 | Win rate: 0.750 | time: 195.6 seconds\n",
      "Epoch: 033/14999 | Loss: 0.0011 | Episodes: 9 | Win count: 25 | Win rate: 0.781 | time: 196.3 seconds\n",
      "Epoch: 034/14999 | Loss: 0.0016 | Episodes: 35 | Win count: 26 | Win rate: 0.812 | time: 198.9 seconds\n",
      "Epoch: 035/14999 | Loss: 0.0007 | Episodes: 65 | Win count: 27 | Win rate: 0.844 | time: 204.2 seconds\n",
      "Epoch: 036/14999 | Loss: 0.0006 | Episodes: 18 | Win count: 28 | Win rate: 0.875 | time: 205.7 seconds\n",
      "Epoch: 037/14999 | Loss: 0.0011 | Episodes: 7 | Win count: 29 | Win rate: 0.875 | time: 206.2 seconds\n",
      "Epoch: 038/14999 | Loss: 0.0016 | Episodes: 30 | Win count: 30 | Win rate: 0.875 | time: 208.6 seconds\n",
      "Epoch: 039/14999 | Loss: 0.0018 | Episodes: 32 | Win count: 31 | Win rate: 0.875 | time: 211.2 seconds\n",
      "Epoch: 040/14999 | Loss: 0.0011 | Episodes: 32 | Win count: 32 | Win rate: 0.875 | time: 214.4 seconds\n",
      "Epoch: 041/14999 | Loss: 0.0015 | Episodes: 55 | Win count: 33 | Win rate: 0.906 | time: 220.3 seconds\n",
      "Epoch: 042/14999 | Loss: 0.0011 | Episodes: 36 | Win count: 34 | Win rate: 0.938 | time: 225.3 seconds\n",
      "Epoch: 043/14999 | Loss: 0.0012 | Episodes: 11 | Win count: 35 | Win rate: 0.938 | time: 226.6 seconds\n",
      "Epoch: 044/14999 | Loss: 0.0016 | Episodes: 4 | Win count: 36 | Win rate: 0.938 | time: 227.0 seconds\n",
      "Epoch: 045/14999 | Loss: 0.0007 | Episodes: 48 | Win count: 37 | Win rate: 0.938 | time: 233.0 seconds\n",
      "Epoch: 046/14999 | Loss: 0.0014 | Episodes: 18 | Win count: 38 | Win rate: 0.969 | time: 235.5 seconds\n",
      "Epoch: 047/14999 | Loss: 0.0008 | Episodes: 6 | Win count: 39 | Win rate: 0.969 | time: 236.2 seconds\n",
      "Epoch: 048/14999 | Loss: 0.0015 | Episodes: 43 | Win count: 40 | Win rate: 0.969 | time: 241.6 seconds\n",
      "Epoch: 049/14999 | Loss: 0.0009 | Episodes: 2 | Win count: 41 | Win rate: 0.969 | time: 241.9 seconds\n",
      "Epoch: 050/14999 | Loss: 0.0012 | Episodes: 18 | Win count: 42 | Win rate: 0.969 | time: 243.5 seconds\n",
      "Epoch: 051/14999 | Loss: 0.0013 | Episodes: 4 | Win count: 43 | Win rate: 0.969 | time: 243.9 seconds\n",
      "Epoch: 052/14999 | Loss: 0.0007 | Episodes: 30 | Win count: 44 | Win rate: 0.969 | time: 246.9 seconds\n",
      "Epoch: 053/14999 | Loss: 0.0014 | Episodes: 9 | Win count: 45 | Win rate: 1.000 | time: 247.7 seconds\n",
      "Epoch: 054/14999 | Loss: 0.0006 | Episodes: 37 | Win count: 46 | Win rate: 1.000 | time: 252.2 seconds\n",
      "Epoch: 055/14999 | Loss: 0.0009 | Episodes: 34 | Win count: 47 | Win rate: 1.000 | time: 255.8 seconds\n",
      "Epoch: 056/14999 | Loss: 0.0007 | Episodes: 26 | Win count: 48 | Win rate: 1.000 | time: 258.7 seconds\n",
      "Epoch: 057/14999 | Loss: 0.0008 | Episodes: 25 | Win count: 49 | Win rate: 1.000 | time: 261.3 seconds\n",
      "Epoch: 058/14999 | Loss: 0.0014 | Episodes: 15 | Win count: 50 | Win rate: 1.000 | time: 262.7 seconds\n",
      "Epoch: 059/14999 | Loss: 0.0007 | Episodes: 21 | Win count: 51 | Win rate: 1.000 | time: 264.6 seconds\n",
      "Epoch: 060/14999 | Loss: 0.0013 | Episodes: 3 | Win count: 52 | Win rate: 1.000 | time: 265.0 seconds\n",
      "Epoch: 061/14999 | Loss: 0.0005 | Episodes: 3 | Win count: 53 | Win rate: 1.000 | time: 265.5 seconds\n",
      "Epoch: 062/14999 | Loss: 0.0003 | Episodes: 3 | Win count: 54 | Win rate: 1.000 | time: 266.0 seconds\n",
      "Epoch: 063/14999 | Loss: 0.0008 | Episodes: 27 | Win count: 55 | Win rate: 1.000 | time: 269.5 seconds\n",
      "Epoch: 064/14999 | Loss: 0.0006 | Episodes: 31 | Win count: 56 | Win rate: 1.000 | time: 272.6 seconds\n",
      "Epoch: 065/14999 | Loss: 0.0005 | Episodes: 25 | Win count: 57 | Win rate: 1.000 | time: 274.8 seconds\n",
      "Epoch: 066/14999 | Loss: 0.0013 | Episodes: 5 | Win count: 58 | Win rate: 1.000 | time: 275.6 seconds\n",
      "Epoch: 067/14999 | Loss: 0.0006 | Episodes: 14 | Win count: 59 | Win rate: 1.000 | time: 277.4 seconds\n",
      "Epoch: 068/14999 | Loss: 0.0010 | Episodes: 28 | Win count: 60 | Win rate: 1.000 | time: 280.4 seconds\n",
      "Epoch: 069/14999 | Loss: 0.0009 | Episodes: 35 | Win count: 61 | Win rate: 1.000 | time: 283.6 seconds\n",
      "Epoch: 070/14999 | Loss: 0.0004 | Episodes: 5 | Win count: 62 | Win rate: 1.000 | time: 284.1 seconds\n",
      "Epoch: 071/14999 | Loss: 0.0008 | Episodes: 42 | Win count: 63 | Win rate: 1.000 | time: 288.1 seconds\n",
      "Epoch: 072/14999 | Loss: 0.0014 | Episodes: 16 | Win count: 64 | Win rate: 1.000 | time: 289.7 seconds\n",
      "Epoch: 073/14999 | Loss: 0.0008 | Episodes: 20 | Win count: 65 | Win rate: 1.000 | time: 291.7 seconds\n",
      "Epoch: 074/14999 | Loss: 0.0008 | Episodes: 34 | Win count: 66 | Win rate: 1.000 | time: 294.9 seconds\n",
      "Epoch: 075/14999 | Loss: 0.0003 | Episodes: 14 | Win count: 67 | Win rate: 1.000 | time: 296.3 seconds\n",
      "Epoch: 076/14999 | Loss: 0.0009 | Episodes: 10 | Win count: 68 | Win rate: 1.000 | time: 297.2 seconds\n",
      "Epoch: 077/14999 | Loss: 0.0006 | Episodes: 18 | Win count: 69 | Win rate: 1.000 | time: 298.7 seconds\n",
      "Epoch: 078/14999 | Loss: 0.0013 | Episodes: 59 | Win count: 70 | Win rate: 1.000 | time: 304.0 seconds\n",
      "Epoch: 079/14999 | Loss: 0.0011 | Episodes: 8 | Win count: 71 | Win rate: 1.000 | time: 304.8 seconds\n"
     ]
    },
    {
     "name": "stdout",
     "output_type": "stream",
     "text": [
      "Epoch: 080/14999 | Loss: 0.0004 | Episodes: 37 | Win count: 72 | Win rate: 1.000 | time: 307.9 seconds\n",
      "Epoch: 081/14999 | Loss: 0.0014 | Episodes: 94 | Win count: 73 | Win rate: 1.000 | time: 316.0 seconds\n",
      "Epoch: 082/14999 | Loss: 0.0109 | Episodes: 3 | Win count: 74 | Win rate: 1.000 | time: 316.3 seconds\n",
      "Epoch: 083/14999 | Loss: 0.0102 | Episodes: 53 | Win count: 75 | Win rate: 1.000 | time: 320.6 seconds\n",
      "Epoch: 084/14999 | Loss: 0.0093 | Episodes: 1 | Win count: 76 | Win rate: 1.000 | time: 320.9 seconds\n",
      "Epoch: 085/14999 | Loss: 0.0012 | Episodes: 19 | Win count: 77 | Win rate: 1.000 | time: 322.5 seconds\n",
      "Epoch: 086/14999 | Loss: 0.0009 | Episodes: 1 | Win count: 78 | Win rate: 1.000 | time: 322.7 seconds\n",
      "Epoch: 087/14999 | Loss: 0.0008 | Episodes: 4 | Win count: 79 | Win rate: 1.000 | time: 323.2 seconds\n",
      "Epoch: 088/14999 | Loss: 0.0072 | Episodes: 143 | Win count: 79 | Win rate: 0.969 | time: 334.3 seconds\n",
      "Epoch: 089/14999 | Loss: 0.0067 | Episodes: 11 | Win count: 80 | Win rate: 0.969 | time: 335.2 seconds\n",
      "Epoch: 090/14999 | Loss: 0.0022 | Episodes: 10 | Win count: 81 | Win rate: 0.969 | time: 336.1 seconds\n",
      "Epoch: 091/14999 | Loss: 0.0039 | Episodes: 54 | Win count: 82 | Win rate: 0.969 | time: 340.6 seconds\n",
      "Epoch: 092/14999 | Loss: 0.0017 | Episodes: 77 | Win count: 83 | Win rate: 0.969 | time: 347.5 seconds\n",
      "Epoch: 093/14999 | Loss: 0.0020 | Episodes: 13 | Win count: 84 | Win rate: 0.969 | time: 348.6 seconds\n",
      "Epoch: 094/14999 | Loss: 0.0015 | Episodes: 21 | Win count: 85 | Win rate: 0.969 | time: 350.2 seconds\n",
      "Epoch: 095/14999 | Loss: 0.0012 | Episodes: 11 | Win count: 86 | Win rate: 0.969 | time: 351.0 seconds\n",
      "Epoch: 096/14999 | Loss: 0.0007 | Episodes: 129 | Win count: 86 | Win rate: 0.938 | time: 361.1 seconds\n",
      "Epoch: 097/14999 | Loss: 0.0011 | Episodes: 137 | Win count: 86 | Win rate: 0.906 | time: 371.3 seconds\n",
      "Epoch: 098/14999 | Loss: 0.0001 | Episodes: 138 | Win count: 86 | Win rate: 0.875 | time: 381.8 seconds\n",
      "Epoch: 099/14999 | Loss: 0.0002 | Episodes: 10 | Win count: 87 | Win rate: 0.875 | time: 382.6 seconds\n",
      "Epoch: 100/14999 | Loss: 0.0001 | Episodes: 7 | Win count: 88 | Win rate: 0.875 | time: 383.1 seconds\n",
      "Epoch: 101/14999 | Loss: 0.0002 | Episodes: 129 | Win count: 88 | Win rate: 0.844 | time: 392.6 seconds\n",
      "Epoch: 102/14999 | Loss: 0.0004 | Episodes: 131 | Win count: 88 | Win rate: 0.812 | time: 6.71 minutes\n",
      "Epoch: 103/14999 | Loss: 0.0000 | Episodes: 137 | Win count: 88 | Win rate: 0.781 | time: 6.89 minutes\n",
      "Epoch: 104/14999 | Loss: 0.0000 | Episodes: 11 | Win count: 89 | Win rate: 0.781 | time: 6.90 minutes\n",
      "Epoch: 105/14999 | Loss: 0.0000 | Episodes: 13 | Win count: 90 | Win rate: 0.781 | time: 6.92 minutes\n",
      "Epoch: 106/14999 | Loss: 0.0000 | Episodes: 130 | Win count: 90 | Win rate: 0.750 | time: 7.08 minutes\n",
      "Epoch: 107/14999 | Loss: 0.0000 | Episodes: 6 | Win count: 91 | Win rate: 0.750 | time: 7.09 minutes\n",
      "Epoch: 108/14999 | Loss: 0.0005 | Episodes: 71 | Win count: 92 | Win rate: 0.750 | time: 7.18 minutes\n",
      "Epoch: 109/14999 | Loss: 0.0002 | Episodes: 21 | Win count: 93 | Win rate: 0.750 | time: 7.20 minutes\n",
      "Epoch: 110/14999 | Loss: 0.0002 | Episodes: 2 | Win count: 94 | Win rate: 0.750 | time: 7.20 minutes\n",
      "Epoch: 111/14999 | Loss: 0.0003 | Episodes: 21 | Win count: 95 | Win rate: 0.750 | time: 7.23 minutes\n",
      "Epoch: 112/14999 | Loss: 0.0007 | Episodes: 1 | Win count: 96 | Win rate: 0.750 | time: 7.23 minutes\n",
      "Epoch: 113/14999 | Loss: 0.0006 | Episodes: 29 | Win count: 97 | Win rate: 0.750 | time: 7.27 minutes\n",
      "Epoch: 114/14999 | Loss: 0.0004 | Episodes: 3 | Win count: 98 | Win rate: 0.750 | time: 7.28 minutes\n",
      "Epoch: 115/14999 | Loss: 0.0008 | Episodes: 8 | Win count: 99 | Win rate: 0.750 | time: 7.29 minutes\n",
      "Epoch: 116/14999 | Loss: 0.0024 | Episodes: 20 | Win count: 100 | Win rate: 0.750 | time: 7.32 minutes\n",
      "Epoch: 117/14999 | Loss: 0.0091 | Episodes: 9 | Win count: 101 | Win rate: 0.750 | time: 7.33 minutes\n",
      "Epoch: 118/14999 | Loss: 0.0011 | Episodes: 16 | Win count: 102 | Win rate: 0.750 | time: 7.35 minutes\n",
      "Epoch: 119/14999 | Loss: 0.0002 | Episodes: 40 | Win count: 103 | Win rate: 0.750 | time: 7.40 minutes\n",
      "Epoch: 120/14999 | Loss: 0.0006 | Episodes: 31 | Win count: 104 | Win rate: 0.781 | time: 7.44 minutes\n",
      "Epoch: 121/14999 | Loss: 0.0005 | Episodes: 23 | Win count: 105 | Win rate: 0.781 | time: 7.48 minutes\n",
      "Epoch: 122/14999 | Loss: 0.0003 | Episodes: 4 | Win count: 106 | Win rate: 0.781 | time: 7.48 minutes\n",
      "Epoch: 123/14999 | Loss: 0.0009 | Episodes: 5 | Win count: 107 | Win rate: 0.781 | time: 7.49 minutes\n",
      "Epoch: 124/14999 | Loss: 0.0005 | Episodes: 14 | Win count: 108 | Win rate: 0.781 | time: 7.50 minutes\n",
      "Epoch: 125/14999 | Loss: 0.0004 | Episodes: 23 | Win count: 109 | Win rate: 0.781 | time: 7.53 minutes\n",
      "Epoch: 126/14999 | Loss: 0.0006 | Episodes: 1 | Win count: 110 | Win rate: 0.781 | time: 7.53 minutes\n",
      "Epoch: 127/14999 | Loss: 0.0005 | Episodes: 28 | Win count: 111 | Win rate: 0.781 | time: 7.57 minutes\n",
      "Epoch: 128/14999 | Loss: 0.0003 | Episodes: 8 | Win count: 112 | Win rate: 0.812 | time: 7.58 minutes\n",
      "Epoch: 129/14999 | Loss: 0.0003 | Episodes: 12 | Win count: 113 | Win rate: 0.844 | time: 7.60 minutes\n",
      "Epoch: 130/14999 | Loss: 0.0005 | Episodes: 8 | Win count: 114 | Win rate: 0.875 | time: 7.61 minutes\n",
      "Epoch: 131/14999 | Loss: 0.0002 | Episodes: 2 | Win count: 115 | Win rate: 0.875 | time: 7.61 minutes\n",
      "Epoch: 132/14999 | Loss: 0.0004 | Episodes: 13 | Win count: 116 | Win rate: 0.875 | time: 7.63 minutes\n",
      "Epoch: 133/14999 | Loss: 0.0001 | Episodes: 20 | Win count: 117 | Win rate: 0.906 | time: 7.65 minutes\n",
      "Epoch: 134/14999 | Loss: 0.0007 | Episodes: 30 | Win count: 118 | Win rate: 0.938 | time: 7.70 minutes\n",
      "Epoch: 135/14999 | Loss: 0.0005 | Episodes: 29 | Win count: 119 | Win rate: 0.969 | time: 7.74 minutes\n",
      "Epoch: 136/14999 | Loss: 0.0001 | Episodes: 26 | Win count: 120 | Win rate: 0.969 | time: 7.78 minutes\n",
      "Epoch: 137/14999 | Loss: 0.0005 | Episodes: 6 | Win count: 121 | Win rate: 0.969 | time: 7.79 minutes\n",
      "Epoch: 138/14999 | Loss: 0.0002 | Episodes: 9 | Win count: 122 | Win rate: 1.000 | time: 7.81 minutes\n",
      "Epoch: 139/14999 | Loss: 0.0003 | Episodes: 11 | Win count: 123 | Win rate: 1.000 | time: 7.83 minutes\n",
      "Epoch: 140/14999 | Loss: 0.0005 | Episodes: 40 | Win count: 124 | Win rate: 1.000 | time: 7.93 minutes\n",
      "Epoch: 141/14999 | Loss: 0.0001 | Episodes: 40 | Win count: 125 | Win rate: 1.000 | time: 8.03 minutes\n",
      "Epoch: 142/14999 | Loss: 0.0011 | Episodes: 17 | Win count: 126 | Win rate: 1.000 | time: 8.07 minutes\n",
      "Epoch: 143/14999 | Loss: 0.0001 | Episodes: 5 | Win count: 127 | Win rate: 1.000 | time: 8.08 minutes\n",
      "Epoch: 144/14999 | Loss: 0.0002 | Episodes: 2 | Win count: 128 | Win rate: 1.000 | time: 8.09 minutes\n",
      "Epoch: 145/14999 | Loss: 0.0006 | Episodes: 2 | Win count: 129 | Win rate: 1.000 | time: 8.10 minutes\n",
      "Epoch: 146/14999 | Loss: 0.0001 | Episodes: 5 | Win count: 130 | Win rate: 1.000 | time: 8.11 minutes\n",
      "Epoch: 147/14999 | Loss: 0.0002 | Episodes: 16 | Win count: 131 | Win rate: 1.000 | time: 8.16 minutes\n",
      "Epoch: 148/14999 | Loss: 0.0002 | Episodes: 13 | Win count: 132 | Win rate: 1.000 | time: 8.19 minutes\n",
      "Epoch: 149/14999 | Loss: 0.0001 | Episodes: 15 | Win count: 133 | Win rate: 1.000 | time: 8.22 minutes\n",
      "Epoch: 150/14999 | Loss: 0.0007 | Episodes: 52 | Win count: 134 | Win rate: 1.000 | time: 8.31 minutes\n",
      "Epoch: 151/14999 | Loss: 0.0007 | Episodes: 30 | Win count: 135 | Win rate: 1.000 | time: 8.36 minutes\n",
      "Epoch: 152/14999 | Loss: 0.0008 | Episodes: 10 | Win count: 136 | Win rate: 1.000 | time: 8.38 minutes\n",
      "Epoch: 153/14999 | Loss: 0.0009 | Episodes: 19 | Win count: 137 | Win rate: 1.000 | time: 8.41 minutes\n",
      "Epoch: 154/14999 | Loss: 0.0004 | Episodes: 53 | Win count: 138 | Win rate: 1.000 | time: 8.49 minutes\n",
      "Epoch: 155/14999 | Loss: 0.0007 | Episodes: 55 | Win count: 139 | Win rate: 1.000 | time: 8.57 minutes\n",
      "Epoch: 156/14999 | Loss: 0.0010 | Episodes: 15 | Win count: 140 | Win rate: 1.000 | time: 8.60 minutes\n",
      "Epoch: 157/14999 | Loss: 0.0004 | Episodes: 10 | Win count: 141 | Win rate: 1.000 | time: 8.62 minutes\n",
      "Epoch: 158/14999 | Loss: 0.0006 | Episodes: 24 | Win count: 142 | Win rate: 1.000 | time: 8.66 minutes\n",
      "Epoch: 159/14999 | Loss: 0.0004 | Episodes: 20 | Win count: 143 | Win rate: 1.000 | time: 8.69 minutes\n"
     ]
    },
    {
     "name": "stdout",
     "output_type": "stream",
     "text": [
      "Epoch: 160/14999 | Loss: 0.0005 | Episodes: 13 | Win count: 144 | Win rate: 1.000 | time: 8.72 minutes\n",
      "Epoch: 161/14999 | Loss: 0.0008 | Episodes: 23 | Win count: 145 | Win rate: 1.000 | time: 8.75 minutes\n",
      "Epoch: 162/14999 | Loss: 0.0005 | Episodes: 13 | Win count: 146 | Win rate: 1.000 | time: 8.78 minutes\n",
      "Epoch: 163/14999 | Loss: 0.0013 | Episodes: 25 | Win count: 147 | Win rate: 1.000 | time: 8.82 minutes\n",
      "Epoch: 164/14999 | Loss: 0.0002 | Episodes: 14 | Win count: 148 | Win rate: 1.000 | time: 8.84 minutes\n",
      "Epoch: 165/14999 | Loss: 0.0001 | Episodes: 3 | Win count: 149 | Win rate: 1.000 | time: 8.85 minutes\n",
      "Epoch: 166/14999 | Loss: 0.0001 | Episodes: 10 | Win count: 150 | Win rate: 1.000 | time: 8.87 minutes\n",
      "Epoch: 167/14999 | Loss: 0.0004 | Episodes: 20 | Win count: 151 | Win rate: 1.000 | time: 8.90 minutes\n",
      "Epoch: 168/14999 | Loss: 0.0006 | Episodes: 28 | Win count: 152 | Win rate: 1.000 | time: 8.95 minutes\n",
      "Epoch: 169/14999 | Loss: 0.0005 | Episodes: 10 | Win count: 153 | Win rate: 1.000 | time: 8.97 minutes\n",
      "Epoch: 170/14999 | Loss: 0.0002 | Episodes: 2 | Win count: 154 | Win rate: 1.000 | time: 8.98 minutes\n",
      "Epoch: 171/14999 | Loss: 0.0004 | Episodes: 4 | Win count: 155 | Win rate: 1.000 | time: 9.00 minutes\n",
      "Epoch: 172/14999 | Loss: 0.0008 | Episodes: 3 | Win count: 156 | Win rate: 1.000 | time: 9.01 minutes\n",
      "Epoch: 173/14999 | Loss: 0.0003 | Episodes: 30 | Win count: 157 | Win rate: 1.000 | time: 9.06 minutes\n",
      "Epoch: 174/14999 | Loss: 0.0002 | Episodes: 21 | Win count: 158 | Win rate: 1.000 | time: 9.09 minutes\n",
      "Epoch: 175/14999 | Loss: 0.0006 | Episodes: 8 | Win count: 159 | Win rate: 1.000 | time: 9.11 minutes\n",
      "Epoch: 176/14999 | Loss: 0.0003 | Episodes: 26 | Win count: 160 | Win rate: 1.000 | time: 9.15 minutes\n",
      "Epoch: 177/14999 | Loss: 0.0001 | Episodes: 27 | Win count: 161 | Win rate: 1.000 | time: 9.19 minutes\n",
      "Epoch: 178/14999 | Loss: 0.0002 | Episodes: 2 | Win count: 162 | Win rate: 1.000 | time: 9.20 minutes\n",
      "Epoch: 179/14999 | Loss: 0.0001 | Episodes: 25 | Win count: 163 | Win rate: 1.000 | time: 9.24 minutes\n",
      "Epoch: 180/14999 | Loss: 0.0001 | Episodes: 7 | Win count: 164 | Win rate: 1.000 | time: 9.25 minutes\n",
      "Epoch: 181/14999 | Loss: 0.0000 | Episodes: 19 | Win count: 165 | Win rate: 1.000 | time: 9.28 minutes\n",
      "Epoch: 182/14999 | Loss: 0.0004 | Episodes: 1 | Win count: 166 | Win rate: 1.000 | time: 9.29 minutes\n",
      "Epoch: 183/14999 | Loss: 0.0001 | Episodes: 12 | Win count: 167 | Win rate: 1.000 | time: 9.31 minutes\n",
      "Epoch: 184/14999 | Loss: 0.0006 | Episodes: 27 | Win count: 168 | Win rate: 1.000 | time: 9.35 minutes\n",
      "Epoch: 185/14999 | Loss: 0.0001 | Episodes: 21 | Win count: 169 | Win rate: 1.000 | time: 9.39 minutes\n",
      "Epoch: 186/14999 | Loss: 0.0001 | Episodes: 23 | Win count: 170 | Win rate: 1.000 | time: 9.43 minutes\n",
      "Epoch: 187/14999 | Loss: 0.0000 | Episodes: 2 | Win count: 171 | Win rate: 1.000 | time: 9.44 minutes\n",
      "Epoch: 188/14999 | Loss: 0.0001 | Episodes: 31 | Win count: 172 | Win rate: 1.000 | time: 9.49 minutes\n",
      "Epoch: 189/14999 | Loss: 0.0003 | Episodes: 14 | Win count: 173 | Win rate: 1.000 | time: 9.51 minutes\n",
      "Epoch: 190/14999 | Loss: 0.0001 | Episodes: 26 | Win count: 174 | Win rate: 1.000 | time: 9.56 minutes\n",
      "Epoch: 191/14999 | Loss: 0.0000 | Episodes: 32 | Win count: 175 | Win rate: 1.000 | time: 9.61 minutes\n",
      "Epoch: 192/14999 | Loss: 0.0004 | Episodes: 28 | Win count: 176 | Win rate: 1.000 | time: 9.67 minutes\n",
      "Epoch: 193/14999 | Loss: 0.0004 | Episodes: 15 | Win count: 177 | Win rate: 1.000 | time: 9.72 minutes\n",
      "Epoch: 194/14999 | Loss: 0.0007 | Episodes: 22 | Win count: 178 | Win rate: 1.000 | time: 9.78 minutes\n",
      "Epoch: 195/14999 | Loss: 0.0001 | Episodes: 8 | Win count: 179 | Win rate: 1.000 | time: 9.81 minutes\n",
      "Epoch: 196/14999 | Loss: 0.0006 | Episodes: 1 | Win count: 180 | Win rate: 1.000 | time: 9.82 minutes\n",
      "Epoch: 197/14999 | Loss: 0.0002 | Episodes: 22 | Win count: 181 | Win rate: 1.000 | time: 9.87 minutes\n",
      "Epoch: 198/14999 | Loss: 0.0007 | Episodes: 9 | Win count: 182 | Win rate: 1.000 | time: 9.91 minutes\n",
      "Epoch: 199/14999 | Loss: 0.0001 | Episodes: 31 | Win count: 183 | Win rate: 1.000 | time: 9.98 minutes\n",
      "Epoch: 200/14999 | Loss: 0.0001 | Episodes: 11 | Win count: 184 | Win rate: 1.000 | time: 10.02 minutes\n",
      "Epoch: 201/14999 | Loss: 0.0004 | Episodes: 18 | Win count: 185 | Win rate: 1.000 | time: 10.07 minutes\n",
      "Epoch: 202/14999 | Loss: 0.0002 | Episodes: 33 | Win count: 186 | Win rate: 1.000 | time: 10.15 minutes\n",
      "Epoch: 203/14999 | Loss: 0.0008 | Episodes: 11 | Win count: 187 | Win rate: 1.000 | time: 10.19 minutes\n",
      "Epoch: 204/14999 | Loss: 0.0001 | Episodes: 19 | Win count: 188 | Win rate: 1.000 | time: 10.24 minutes\n",
      "Epoch: 205/14999 | Loss: 0.0000 | Episodes: 13 | Win count: 189 | Win rate: 1.000 | time: 10.28 minutes\n",
      "Epoch: 206/14999 | Loss: 0.0001 | Episodes: 18 | Win count: 190 | Win rate: 1.000 | time: 10.33 minutes\n",
      "Epoch: 207/14999 | Loss: 0.0001 | Episodes: 29 | Win count: 191 | Win rate: 1.000 | time: 10.40 minutes\n",
      "Epoch: 208/14999 | Loss: 0.0007 | Episodes: 22 | Win count: 192 | Win rate: 1.000 | time: 10.45 minutes\n",
      "Epoch: 209/14999 | Loss: 0.0003 | Episodes: 16 | Win count: 193 | Win rate: 1.000 | time: 10.50 minutes\n",
      "Epoch: 210/14999 | Loss: 0.0004 | Episodes: 8 | Win count: 194 | Win rate: 1.000 | time: 10.52 minutes\n",
      "Epoch: 211/14999 | Loss: 0.0002 | Episodes: 57 | Win count: 195 | Win rate: 1.000 | time: 10.61 minutes\n",
      "Epoch: 212/14999 | Loss: 0.0002 | Episodes: 11 | Win count: 196 | Win rate: 1.000 | time: 10.64 minutes\n",
      "Epoch: 213/14999 | Loss: 0.0006 | Episodes: 7 | Win count: 197 | Win rate: 1.000 | time: 10.66 minutes\n",
      "Reached 100% win rate at epoch: 213\n",
      "n_epoch: 213, max_mem: 512, data: 32, time: 10.67 minutes\n"
     ]
    },
    {
     "data": {
      "text/plain": [
       "640.13332"
      ]
     },
     "execution_count": 23,
     "metadata": {},
     "output_type": "execute_result"
    }
   ],
   "source": [
    "model = build_model(maze)\n",
    "qtrain(model, maze, epochs=1000, max_memory=8*maze.size, data_size=32)"
   ]
  },
  {
   "cell_type": "markdown",
   "metadata": {},
   "source": [
    "This cell will check to see if the model passes the completion check. Note: This could take several minutes."
   ]
  },
  {
   "cell_type": "code",
   "execution_count": 24,
   "metadata": {},
   "outputs": [
    {
     "data": {
      "text/plain": [
       "<matplotlib.image.AxesImage at 0x19889f47288>"
      ]
     },
     "execution_count": 24,
     "metadata": {},
     "output_type": "execute_result"
    },
    {
     "data": {
      "image/png": "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\n",
      "text/plain": [
       "<Figure size 432x288 with 1 Axes>"
      ]
     },
     "metadata": {
      "needs_background": "light"
     },
     "output_type": "display_data"
    }
   ],
   "source": [
    "completion_check(model, qmaze)\n",
    "show(qmaze)"
   ]
  },
  {
   "cell_type": "markdown",
   "metadata": {},
   "source": [
    "This cell will test your model for one game. It will start the pirate at the top-left corner and run play_game. The agent should find a path from the starting position to the target (treasure). The treasure is located in the bottom-right corner."
   ]
  },
  {
   "cell_type": "code",
   "execution_count": 25,
   "metadata": {},
   "outputs": [
    {
     "data": {
      "text/plain": [
       "<matplotlib.image.AxesImage at 0x19889f95348>"
      ]
     },
     "execution_count": 25,
     "metadata": {},
     "output_type": "execute_result"
    },
    {
     "data": {
      "image/png": "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\n",
      "text/plain": [
       "<Figure size 432x288 with 1 Axes>"
      ]
     },
     "metadata": {
      "needs_background": "light"
     },
     "output_type": "display_data"
    }
   ],
   "source": [
    "pirate_start = (0, 0)\n",
    "play_game(model, qmaze, pirate_start)\n",
    "show(qmaze)"
   ]
  },
  {
   "cell_type": "markdown",
   "metadata": {},
   "source": [
    "## Save and Submit Your Work\n",
    "After you have finished creating the code for your notebook, save your work. Make sure that your notebook contains your name in the filename (e.g. Doe_Jane_ProjectTwo.ipynb). This will help your instructor access and grade your work easily. Download a copy of your IPYNB file and submit it to Brightspace. Refer to the Jupyter Notebook in Apporto Tutorial if you need help with these tasks."
   ]
  }
 ],
 "metadata": {
  "kernelspec": {
   "display_name": "Python 3",
   "language": "python",
   "name": "python3"
  },
  "language_info": {
   "codemirror_mode": {
    "name": "ipython",
    "version": 3
   },
   "file_extension": ".py",
   "mimetype": "text/x-python",
   "name": "python",
   "nbconvert_exporter": "python",
   "pygments_lexer": "ipython3",
   "version": "3.7.4"
  }
 },
 "nbformat": 4,
 "nbformat_minor": 2
}
